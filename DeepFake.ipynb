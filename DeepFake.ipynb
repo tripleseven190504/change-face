{
  "cells": [
    {
      "cell_type": "markdown",
      "metadata": {
        "id": "view-in-github",
        "colab_type": "text"
      },
      "source": [
        "<a href=\"https://colab.research.google.com/github/tripleseven190504/change-face/blob/main/DeepFake.ipynb\" target=\"_parent\"><img src=\"https://colab.research.google.com/assets/colab-badge.svg\" alt=\"Open In Colab\"/></a>"
      ]
    },
    {
      "cell_type": "markdown",
      "metadata": {
        "id": "XquMYRP4qW0w"
      },
      "source": [
        "#Cài thư viện"
      ]
    },
    {
      "cell_type": "code",
      "execution_count": null,
      "metadata": {
        "id": "yJoaM_at50zZ"
      },
      "outputs": [],
      "source": [
        "%cd /content/\n",
        "!pip install --upgrade pip\n",
        "!git clone https://github.com/tripleseven190504/change-face.git\n",
        "!pip install fastapi kaleido python-multipart uvicorn\n",
        "!pip install --force-reinstall lida gcsfs google-colab huggingface-hub imageio tensorflow tensorflow-probability torchdata torchtext yfinance\n",
        "!pip install -r /content/change-face/requirements.txt\n",
        "!wget https://huggingface.co/ezioruan/inswapper_128.onnx/resolve/main/inswapper_128.onnx -O inswapper_128.onnx\n",
        "!mkdir /content/change-face/models\n",
        "!mv inswapper_128.onnx /content/change-face/models\n",
        "!pip uninstall onnxruntime onnxruntime-gpu -y\n",
        "!pip install torch torchvision torchaudio --force-reinstall --index-url https://download.pytorch.org/whl/cu118\n",
        "!pip install onnxruntime-gpu==1.15.1"
      ]
    },
    {
      "cell_type": "markdown",
      "metadata": {
        "id": "fbdW5Q_iqW1B"
      },
      "source": [
        "# Chạy"
      ]
    },
    {
      "cell_type": "code",
      "source": [
        "from moviepy.editor import VideoFileClip\n",
        "\n",
        "\n",
        "def convert_to_24fps(input_video_path, output_video_path):\n",
        "    clip = VideoFileClip(input_video_path)\n",
        "    clip = clip.set_fps(24)\n",
        "    clip.write_videofile(output_video_path, codec='libx264', fps=24)\n",
        "\n",
        "\n",
        "input_video_path = 'input_video.mp4'\n",
        "output_video_path = 'video.mp4'\n",
        "\n",
        "convert_to_24fps(input_video_path, output_video_path)\n"
      ],
      "metadata": {
        "id": "DXaze9QvqiM5"
      },
      "execution_count": 1,
      "outputs": []
    },
    {
      "cell_type": "code",
      "execution_count": null,
      "metadata": {
        "id": "2IxL9XoUOY5W"
      },
      "outputs": [],
      "source": [
        "%cd /content/change-face\n",
        "!python run.py -s /content/image.jpg -t /content/video.mp4 -o /content/new_video.mp4 --frame-processor face_swapper"
      ]
    }
  ],
  "metadata": {
    "accelerator": "GPU",
    "colab": {
      "gpuType": "T4",
      "provenance": [],
      "include_colab_link": true
    },
    "kernelspec": {
      "display_name": "Python 3",
      "name": "python3"
    },
    "language_info": {
      "name": "python"
    }
  },
  "nbformat": 4,
  "nbformat_minor": 0
}